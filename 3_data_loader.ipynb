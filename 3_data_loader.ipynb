{
 "cells": [
  {
   "cell_type": "markdown",
   "metadata": {},
   "source": [
    "This notebook makes dataloaders out of slices, and save them as numpy arrays for further use"
   ]
  },
  {
   "cell_type": "code",
   "execution_count": 1,
   "metadata": {},
   "outputs": [],
   "source": [
    "import os\n",
    "import numpy as np\n",
    "import tensorflow as tf\n",
    "from tensorflow.keras.preprocessing.image import load_img, img_to_array\n",
    "\n",
    "# Define paths to slices\n",
    "data_training = 'sliced/training'\n",
    "data_test = 'sliced/test'\n",
    "data_validation = 'sliced/validation'\n"
   ]
  },
  {
   "cell_type": "code",
   "execution_count": 2,
   "metadata": {},
   "outputs": [],
   "source": [
    "def load_image(path, target_size=(128, 128)):\n",
    "    image = load_img(path, color_mode='grayscale', target_size=target_size)\n",
    "    image = img_to_array(image)\n",
    "    image = image / 255.0  \n",
    "    return image\n",
    "\n",
    "def load_images(scan_dir):\n",
    "    images = []\n",
    "    segmentations = []\n",
    "    for filename in sorted(os.listdir(scan_dir)):\n",
    "        if 'slice_' in filename and 'seg' not in filename:\n",
    "            img_path = os.path.join(scan_dir, filename)\n",
    "            seg_path = img_path.replace('slice_', 'slice_seg')\n",
    "            images.append(load_image(img_path))\n",
    "            segmentations.append(load_image(seg_path))\n",
    "    return np.array(images), np.array(segmentations)"
   ]
  },
  {
   "cell_type": "code",
   "execution_count": 3,
   "metadata": {},
   "outputs": [],
   "source": [
    "def create_dataset(data_dir):\n",
    "    image_data = []\n",
    "    segmentation_data = []\n",
    "    for scan_folder in sorted(os.listdir(data_dir)):\n",
    "        scan_dir = os.path.join(data_dir, scan_folder)\n",
    "        images, segmentations = load_images(scan_dir)\n",
    "        image_data.append(images)\n",
    "        segmentation_data.append(segmentations)\n",
    "    \n",
    "    image_data = np.concatenate(image_data, axis=0)\n",
    "    segmentation_data = np.concatenate(segmentation_data, axis=0)\n",
    "    \n",
    "    return image_data, segmentation_data\n"
   ]
  },
  {
   "cell_type": "code",
   "execution_count": 4,
   "metadata": {},
   "outputs": [],
   "source": [
    "images, segmentations = create_dataset(data_training)\n",
    "np.save('images_training_dataset', images)\n",
    "np.save('segmentations_training_dataset', segmentations)"
   ]
  },
  {
   "cell_type": "code",
   "execution_count": 5,
   "metadata": {},
   "outputs": [],
   "source": [
    "images, segmentations = create_dataset(data_test)\n",
    "np.save('images_test_dataset', images)\n",
    "np.save('segmentations_test_dataset', segmentations)"
   ]
  },
  {
   "cell_type": "code",
   "execution_count": 6,
   "metadata": {},
   "outputs": [],
   "source": [
    "images, segmentations = create_dataset(data_validation)\n",
    "np.save('images_validation_dataset', images)\n",
    "np.save('segmentations_validation_dataset', segmentations)"
   ]
  },
  {
   "cell_type": "code",
   "execution_count": 7,
   "metadata": {},
   "outputs": [],
   "source": [
    "def tensorflow_dataset(images, segmentations, batch_size):\n",
    "    dataset = tf.data.Dataset.from_tensor_slices((images, segmentations))\n",
    "    dataset = dataset.shuffle(buffer_size=100).batch(batch_size).prefetch(buffer_size=tf.data.AUTOTUNE)\n",
    "    return dataset\n",
    "\n",
    "batch_size = 16\n",
    "train_dataset = tensorflow_dataset(images, segmentations, batch_size)"
   ]
  }
 ],
 "metadata": {
  "kernelspec": {
   "display_name": "Python 3",
   "language": "python",
   "name": "python3"
  },
  "language_info": {
   "codemirror_mode": {
    "name": "ipython",
    "version": 3
   },
   "file_extension": ".py",
   "mimetype": "text/x-python",
   "name": "python",
   "nbconvert_exporter": "python",
   "pygments_lexer": "ipython3",
   "version": "3.10.4"
  }
 },
 "nbformat": 4,
 "nbformat_minor": 2
}
